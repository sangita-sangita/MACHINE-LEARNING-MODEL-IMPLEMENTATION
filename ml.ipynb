{
 "cells": [
  {
   "cell_type": "markdown",
   "id": "b9311daf",
   "metadata": {},
   "source": [
    "Spam Email Detection: A Predictive Model with Scikit-learn\n",
    "This Jupyter Notebook demonstrates the implementation of a machine learning predictive model for classifying emails as \"spam\" or \"ham\" (not spam). We will use the scikit-learn library in Python for data preprocessing, model training, and evaluation.\n",
    "\n",
    "1. Introduction\n",
    "Spam email detection is a classic binary classification problem. Given the content of an email, our goal is to predict whether it is spam or legitimate (ham). This notebook will walk through the following steps:\n",
    "\n",
    "Data Preparation: Creating a simple, synthetic dataset for demonstration purposes.\n",
    "\n",
    "Text Preprocessing: Converting text data into numerical features that a machine learning model can understand.\n",
    "\n",
    "Model Training: Training a classification model (Naive Bayes, a common choice for text classification).\n",
    "\n",
    "Model Evaluation: Assessing the performance of our trained model.\n",
    "\n",
    "2. Setup and Data Preparation\n",
    "First, let's import the necessary libraries and create a small, illustrative dataset. In a real-world scenario, you would load a much larger dataset (e.g., from a CSV file)."
   ]
  },
  {
   "cell_type": "code",
   "execution_count": 1,
   "id": "1b75adc4",
   "metadata": {},
   "outputs": [
    {
     "name": "stdout",
     "output_type": "stream",
     "text": [
      "Dataset Head:\n",
      "                                       email_content label\n",
      "0  Congratulations! You've won a free iPhone. Cli...  spam\n",
      "1  Meeting reminder for tomorrow at 10 AM in conf...   ham\n",
      "2  Urgent: Your account has been compromised. Ver...  spam\n",
      "3  Hi John, please review the attached report by ...   ham\n",
      "4  Get rich quick with our amazing new investment...  spam\n",
      "\n",
      "Label Distribution:\n",
      "label\n",
      "spam    10\n",
      "ham     10\n",
      "Name: count, dtype: int64\n"
     ]
    }
   ],
   "source": [
    "# Import necessary libraries\n",
    "import pandas as pd\n",
    "from sklearn.model_selection import train_test_split\n",
    "from sklearn.feature_extraction.text import TfidfVectorizer\n",
    "from sklearn.naive_bayes import MultinomialNB\n",
    "from sklearn.metrics import accuracy_score, precision_score, recall_score, f1_score, confusion_matrix\n",
    "import matplotlib.pyplot as plt\n",
    "import seaborn as sns\n",
    "\n",
    "# --- Create a Synthetic Dataset ---\n",
    "# In a real-world application, you would load your dataset from a file (e.g., CSV).\n",
    "data = {\n",
    "    'email_content': [\n",
    "        \"Congratulations! You've won a free iPhone. Click here to claim your prize.\", # Spam\n",
    "        \"Meeting reminder for tomorrow at 10 AM in conference room B.\",              # Ham\n",
    "        \"Urgent: Your account has been compromised. Verify your details now!\",      # Spam\n",
    "        \"Hi John, please review the attached report by end of day.\",                # Ham\n",
    "        \"Get rich quick with our amazing new investment opportunity!\",              # Spam\n",
    "        \"Reminder: Your subscription is about to expire. Renew now to avoid interruption.\", # Ham\n",
    "        \"VIAGRA, CIALIS, and more for cheap! Limited time offer!\",                  # Spam\n",
    "        \"Project update: New features implemented successfully.\",                   # Ham\n",
    "        \"You've been selected for a cash prize! Reply 'YES' to receive.\",           # Spam\n",
    "        \"Family dinner tonight at 7 PM. Let me know if you can make it.\",           # Ham\n",
    "        \"Exclusive offer just for you! Buy now and save big!\",                      # Spam\n",
    "        \"Please find the meeting minutes from our last discussion.\",                # Ham\n",
    "        \"Your Amazon delivery is delayed. Track your package here.\",               # Spam\n",
    "        \"Team meeting at 2 PM to discuss quarterly results.\",                       # Ham\n",
    "        \"Free gift card just for you! Click the link.\",                             # Spam\n",
    "        \"Important announcement regarding the company policy update.\",             # Ham\n",
    "        \"Earn $$$ from home! No experience needed. Work from anywhere.\",            # Spam\n",
    "        \"Can you send me the latest version of the document?\",                     # Ham\n",
    "        \"Limited time offer! Don't miss out on these incredible savings!\",          # Spam\n",
    "        \"Hello, checking in on the status of your request.\"                         # Ham\n",
    "    ],\n",
    "    'label': [\n",
    "        'spam', 'ham', 'spam', 'ham', 'spam', 'ham', 'spam', 'ham', 'spam', 'ham',\n",
    "        'spam', 'ham', 'spam', 'ham', 'spam', 'ham', 'spam', 'ham', 'spam', 'ham'\n",
    "    ]\n",
    "}\n",
    "\n",
    "df = pd.DataFrame(data)\n",
    "\n",
    "print(\"Dataset Head:\")\n",
    "print(df.head())\n",
    "print(\"\\nLabel Distribution:\")\n",
    "print(df['label'].value_counts())"
   ]
  },
  {
   "cell_type": "markdown",
   "id": "af3fd018",
   "metadata": {},
   "source": [
    "3. Text Preprocessing and Feature Extraction\n",
    "Machine learning models require numerical input. Text data needs to be converted into numerical features. A common technique for this is TF-IDF (Term Frequency-Inverse Document Frequency) or Count Vectorization. TF-IDF gives more weight to words that are important in a specific document but rare across the entire corpus."
   ]
  },
  {
   "cell_type": "code",
   "execution_count": 2,
   "id": "d64fb441",
   "metadata": {},
   "outputs": [
    {
     "name": "stdout",
     "output_type": "stream",
     "text": [
      "\n",
      "Shape of X_train: (16, 101)\n",
      "Shape of X_test: (4, 101)\n",
      "Shape of y_train: (16,)\n",
      "Shape of y_test: (4,)\n"
     ]
    }
   ],
   "source": [
    "# --- Text Preprocessing (Vectorization) ---\n",
    "# Initialize TF-IDF Vectorizer\n",
    "# max_features: Limits the number of features (words) to consider, focusing on most common ones.\n",
    "# stop_words: Removes common words like 'the', 'is', 'a' that don't add much meaning.\n",
    "tfidf_vectorizer = TfidfVectorizer(max_features=5000, stop_words='english')\n",
    "\n",
    "# Fit and transform the email content into TF-IDF features\n",
    "X = tfidf_vectorizer.fit_transform(df['email_content'])\n",
    "y = df['label']\n",
    "\n",
    "# --- Split Data into Training and Testing Sets ---\n",
    "# We split our data to train the model on one part and evaluate it on unseen data.\n",
    "# test_size=0.2: 20% of the data will be used for testing.\n",
    "# random_state=42: Ensures reproducibility of the split.\n",
    "X_train, X_test, y_train, y_test = train_test_split(X, y, test_size=0.2, random_state=42)\n",
    "\n",
    "print(f\"\\nShape of X_train: {X_train.shape}\")\n",
    "print(f\"Shape of X_test: {X_test.shape}\")\n",
    "print(f\"Shape of y_train: {y_train.shape}\")\n",
    "print(f\"Shape of y_test: {y_test.shape}\")\n"
   ]
  },
  {
   "cell_type": "markdown",
   "id": "9ea1d4f6",
   "metadata": {},
   "source": [
    "4. Model Training\n",
    "For text classification, Multinomial Naive Bayes is a popular and effective choice due to its suitability for discrete features (like word counts or TF-IDF scores)."
   ]
  },
  {
   "cell_type": "code",
   "execution_count": 3,
   "id": "8979c092",
   "metadata": {},
   "outputs": [
    {
     "name": "stdout",
     "output_type": "stream",
     "text": [
      "\n",
      "Training the Multinomial Naive Bayes model...\n",
      "Model training complete.\n"
     ]
    }
   ],
   "source": [
    "# --- Model Selection and Training ---\n",
    "# Initialize the Multinomial Naive Bayes classifier\n",
    "model = MultinomialNB()\n",
    "\n",
    "# Train the model using the training data\n",
    "print(\"\\nTraining the Multinomial Naive Bayes model...\")\n",
    "model.fit(X_train, y_train)\n",
    "print(\"Model training complete.\")"
   ]
  },
  {
   "cell_type": "markdown",
   "id": "3912cd30",
   "metadata": {},
   "source": [
    "5. Model Evaluation\n",
    "After training, we evaluate the model's performance on the unseen test data. We'll use common classification metrics:\n",
    "\n",
    "Accuracy: The proportion of correctly classified instances.\n",
    "\n",
    "Precision: Of all instances predicted as positive, how many were actually positive. (Important for spam: avoids flagging ham as spam)\n",
    "\n",
    "Recall: Of all actual positive instances, how many were correctly predicted as positive. (Important for spam: catches most spam)\n",
    "\n",
    "F1-Score: The harmonic mean of precision and recall, providing a balance between them.\n",
    "\n",
    "Confusion Matrix: A table showing the number of true positives, true negatives, false positives, and false negatives."
   ]
  },
  {
   "cell_type": "code",
   "execution_count": 4,
   "id": "0cb588ac",
   "metadata": {},
   "outputs": [
    {
     "name": "stdout",
     "output_type": "stream",
     "text": [
      "\n",
      "--- Model Evaluation ---\n",
      "Accuracy: 0.5000\n",
      "Precision (Spam): 0.3333\n",
      "Recall (Spam): 1.0000\n",
      "F1-Score (Spam): 0.5000\n",
      "\n",
      "Confusion Matrix:\n",
      "[[1 2]\n",
      " [0 1]]\n"
     ]
    },
    {
     "data": {
      "image/png": "[encoded data removed]",
      "text/plain": [
       "<Figure size 600x500 with 2 Axes>"
      ]
     },
     "metadata": {},
     "output_type": "display_data"
    },
    {
     "name": "stdout",
     "output_type": "stream",
     "text": [
      "\n",
      "--- Example Prediction ---\n",
      "Email: \"Claim your free prize now!\" \n",
      "Predicted Label: spam\n",
      "Email: \"Hi team, just a quick update on the project.\" \n",
      "Predicted Label: ham\n",
      "Email: \"Nigerian prince wants to give you money. Act fast!\" \n",
      "Predicted Label: spam\n"
     ]
    }
   ],
   "source": [
    "# --- Model Prediction ---\n",
    "# Make predictions on the test set\n",
    "y_pred = model.predict(X_test)\n",
    "\n",
    "# --- Model Evaluation ---\n",
    "print(\"\\n--- Model Evaluation ---\")\n",
    "accuracy = accuracy_score(y_test, y_pred)\n",
    "precision = precision_score(y_test, y_pred, pos_label='spam')\n",
    "recall = recall_score(y_test, y_pred, pos_label='spam')\n",
    "f1 = f1_score(y_test, y_pred, pos_label='spam')\n",
    "\n",
    "print(f\"Accuracy: {accuracy:.4f}\")\n",
    "print(f\"Precision (Spam): {precision:.4f}\")\n",
    "print(f\"Recall (Spam): {recall:.4f}\")\n",
    "print(f\"F1-Score (Spam): {f1:.4f}\")\n",
    "\n",
    "# Confusion Matrix\n",
    "cm = confusion_matrix(y_test, y_pred, labels=['ham', 'spam'])\n",
    "print(\"\\nConfusion Matrix:\")\n",
    "print(cm)\n",
    "\n",
    "# Visualize Confusion Matrix\n",
    "plt.figure(figsize=(6, 5))\n",
    "sns.heatmap(cm, annot=True, fmt='d', cmap='Blues', xticklabels=['Predicted Ham', 'Predicted Spam'], yticklabels=['Actual Ham', 'Actual Spam'])\n",
    "plt.title('Confusion Matrix')\n",
    "plt.ylabel('Actual Label')\n",
    "plt.xlabel('Predicted Label')\n",
    "plt.show()\n",
    "\n",
    "# --- Example Prediction ---\n",
    "print(\"\\n--- Example Prediction ---\")\n",
    "new_emails = [\n",
    "    \"Claim your free prize now!\", # Should be spam\n",
    "    \"Hi team, just a quick update on the project.\", # Should be ham\n",
    "    \"Nigerian prince wants to give you money. Act fast!\" # Should be spam\n",
    "]\n",
    "\n",
    "# Transform new emails using the *same* vectorizer used for training\n",
    "new_emails_transformed = tfidf_vectorizer.transform(new_emails)\n",
    "predictions = model.predict(new_emails_transformed)\n",
    "\n",
    "for i, email in enumerate(new_emails):\n",
    "    print(f\"Email: \\\"{email}\\\" \\nPredicted Label: {predictions[i]}\")\n"
   ]
  },
  {
   "cell_type": "markdown",
   "id": "4cca5f0e",
   "metadata": {},
   "source": [
    "6. Conclusion and Next Steps\n",
    "This notebook demonstrated a basic spam email detection model using TF-IDF for feature extraction and Multinomial Naive Bayes for classification. Even with a small synthetic dataset, the model shows reasonable performance.\n",
    "\n",
    "Further Improvements and Next Steps:\n",
    "\n",
    "Larger, Real-world Dataset: Use a much larger and more diverse dataset of emails (e.g., Enron dataset, Kaggle spam datasets).\n",
    "\n",
    "Advanced Preprocessing:\n",
    "\n",
    "Lowercasing (already done).\n",
    "\n",
    "Removing punctuation, numbers, and special characters.\n",
    "\n",
    "Stemming (reducing words to their root, e.g., \"running\" to \"run\") in addition to or instead of lemmatization.\n",
    "\n",
    "Handling misspellings.\n",
    "\n",
    "Hyperparameter Tuning: Optimize the TfidfVectorizer (e.g., ngram_range, min_df, max_df) and MultinomialNB parameters for better performance using techniques like Grid Search or Random Search.\n",
    "\n",
    "Other Models: Experiment with other classification algorithms like Logistic Regression, Support Vector Machines (SVM), Random Forest, or deep learning models (e.g., LSTMs, Transformers) for more complex patterns.\n",
    "\n",
    "Cross-Validation: Use cross-validation techniques (e.g., KFold) for a more robust evaluation of the model's performance across different splits of the data.\n",
    "\n",
    "Ensemble Methods: Combine multiple models to improve predictive accuracy.\n",
    "\n",
    "Feature Engineering: Create additional features from the email content (e.g., presence of URLs, specific keywords, length of email, number of exclamation marks)."
   ]
  }
 ],
 "metadata": {
  "kernelspec": {
   "display_name": "Python 3",
   "language": "python",
   "name": "python3"
  },
  "language_info": {
   "codemirror_mode": {
    "name": "ipython",
    "version": 3
   },
   "file_extension": ".py",
   "mimetype": "text/x-python",
   "name": "python",
   "nbconvert_exporter": "python",
   "pygments_lexer": "ipython3",
   "version": "3.13.5"
  }
 },
 "nbformat": 4,
 "nbformat_minor": 5
}
